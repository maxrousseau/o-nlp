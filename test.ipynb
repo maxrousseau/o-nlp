{
 "cells": [
  {
   "cell_type": "code",
   "execution_count": 2,
   "metadata": {},
   "outputs": [],
   "source": [
    "# %load_ext autoreload\n",
    "# %autoreload 2\n",
    "import load_data\n",
    "from datasets import Dataset"
   ]
  },
  {
   "cell_type": "code",
   "execution_count": 3,
   "metadata": {},
   "outputs": [],
   "source": [
    "%load_ext autoreload\n",
    "%autoreload 2"
   ]
  },
  {
   "cell_type": "code",
   "execution_count": 21,
   "metadata": {},
   "outputs": [
    {
     "name": "stderr",
     "output_type": "stream",
     "text": [
      "[WARNING] :: 2023-01-13 14:09:12,367 @ datasets.builder :: Found cached dataset squad (C:/Users/roum5/.cache/huggingface/datasets/squad/plain_text/1.0.0/d6ec3ceb99ca480ce37cdd35555d6cb2511d223b9150cce08a837ef62ffea453)\n",
      "100%|██████████| 2/2 [00:00<00:00, 38.20it/s]\n"
     ]
    }
   ],
   "source": [
    "samples = load_data.loadSquadMI(n=10)\n",
    "tiny_squad = Dataset.from_dict(samples)"
   ]
  },
  {
   "cell_type": "code",
   "execution_count": null,
   "metadata": {},
   "outputs": [],
   "source": [
    "bart_default_config = {\n",
    "    \"name\": \"bart-default\",\n",
    "    \"lr\": 2e-5,\n",
    "    \"num_epochs\": 1,\n",
    "    \"lr_scheduler\": True,\n",
    "    \"checkpoint\": \"facebook/bart-base\",\n",
    "    \"checkpoint_savedir\": \"./ckpt\",\n",
    "    \"train_dev_dataset\": None,\n",
    "    \"val_dev_dataset\": None,\n",
    "    \"train_dataset\": tiny_squad,\n",
    "    \"test_dataset\": tiny_squad,\n",
    "    \"max_seq_length\": 384,\n",
    "    \"max_ans_length\": 128,\n",
    "    \"stride\": 128,\n",
    "    \"padding\": \"max_length\",\n",
    "    \"seed\": 0,\n",
    "    \"prefix\": True,\n",
    "    \"train_prefix\": True,\n",
    "    \"unfreeze\": False, \n",
    "}"
   ]
  },
  {
   "cell_type": "code",
   "execution_count": 23,
   "metadata": {},
   "outputs": [
    {
     "name": "stderr",
     "output_type": "stream",
     "text": [
      "[INFO] :: 2023-01-13 14:11:00,619 @ bart :: tokenizer initialized\n",
      "[INFO] :: 2023-01-13 14:11:05,137 @ bart :: prefix bart for mask infilling model initialized\n",
      "[INFO] :: 2023-01-13 14:11:05,141 @ bart :: training prefix parameters\n",
      "\n",
      "\u001b[A\n",
      "100%|██████████| 1/1 [00:00<00:00,  5.87ba/s]\n",
      "[INFO] :: 2023-01-13 14:11:05,336 @ bart :: training dataset processed and dataloaders created\n",
      "\n",
      "\u001b[A\n",
      "100%|██████████| 1/1 [00:00<00:00,  6.95ba/s]\n",
      "[INFO] :: 2023-01-13 14:11:05,506 @ bart :: validation dataset processed and dataloaders created\n",
      "\n",
      "\u001b[A\n",
      "\u001b[A"
     ]
    }
   ],
   "source": [
    "from fsbart import FsBART\n",
    "fsb_model = FsBART(**bart_default_config)\n",
    "fsb_model.finetune(\"run\")\n",
    "\n"
   ]
  },
  {
   "cell_type": "code",
   "execution_count": 17,
   "metadata": {},
   "outputs": [
    {
     "data": {
      "text/plain": [
       "'cpu'"
      ]
     },
     "execution_count": 17,
     "metadata": {},
     "output_type": "execute_result"
    }
   ],
   "source": [
    "import torch\n",
    "torch.device"
   ]
  }
 ],
 "metadata": {
  "kernelspec": {
   "display_name": "o-nlp",
   "language": "python",
   "name": "python3"
  },
  "language_info": {
   "codemirror_mode": {
    "name": "ipython",
    "version": 3
   },
   "file_extension": ".py",
   "mimetype": "text/x-python",
   "name": "python",
   "nbconvert_exporter": "python",
   "pygments_lexer": "ipython3",
   "version": "3.8.0"
  },
  "orig_nbformat": 4,
  "vscode": {
   "interpreter": {
    "hash": "9e347cf33e39658ad5379615e90ad4f79b8760426ae44e8daf2e52468f171ca7"
   }
  }
 },
 "nbformat": 4,
 "nbformat_minor": 2
}
