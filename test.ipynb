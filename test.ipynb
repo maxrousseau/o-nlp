{
 "cells": [
  {
   "cell_type": "code",
   "execution_count": 2,
   "metadata": {},
   "outputs": [],
   "source": [
    "# %load_ext autoreload\n",
    "# %autoreload 2\n",
    "import load_data\n",
    "import fsbart\n",
    "from datasets import Dataset"
   ]
  },
  {
   "cell_type": "code",
   "execution_count": 3,
   "metadata": {},
   "outputs": [],
   "source": [
    "%load_ext autoreload\n",
    "%autoreload 2"
   ]
  },
  {
   "cell_type": "code",
   "execution_count": 4,
   "metadata": {},
   "outputs": [
    {
     "name": "stderr",
     "output_type": "stream",
     "text": [
      "[WARNING] :: 2023-01-05 21:19:03,121 @ datasets.builder :: Found cached dataset squad (C:/Users/roum5/.cache/huggingface/datasets/squad/plain_text/1.0.0/d6ec3ceb99ca480ce37cdd35555d6cb2511d223b9150cce08a837ef62ffea453)\n",
      "100%|██████████| 2/2 [00:00<00:00, 96.74it/s]\n"
     ]
    }
   ],
   "source": [
    "samples = load_data.loadSquadMI(n=100)\n",
    "tiny_squad = Dataset.from_dict(samples)"
   ]
  },
  {
   "cell_type": "code",
   "execution_count": null,
   "metadata": {},
   "outputs": [],
   "source": [
    "bart_default_config = {\n",
    "    \"name\": \"bart-default\",\n",
    "    \"lr\": 2e-5,\n",
    "    \"num_epochs\": 12,\n",
    "    \"lr_scheduler\": True,\n",
    "    \"checkpoint\": \"facebook/bart-base\",\n",
    "    \"checkpoint_savedir\": \"./ckpt\",\n",
    "    \"train_dev_dataset\": None,\n",
    "    \"val_dev_dataset\": None,\n",
    "    \"train_dataset\": None,\n",
    "    \"test_dataset\": None,\n",
    "    \"max_seq_length\": 384,\n",
    "    \"max_ans_length\": 128,\n",
    "    \"stride\": 128,\n",
    "    \"padding\": \"max_length\",\n",
    "    \"seed\": 0,\n",
    "    \"prefix\": False,\n",
    "    \"train_prefix\": False,\n",
    "    \"freeze\": False, \n",
    "}"
   ]
  },
  {
   "cell_type": "code",
   "execution_count": 7,
   "metadata": {},
   "outputs": [
    {
     "ename": "TypeError",
     "evalue": "get_device() missing 1 required positional arguments: \"input\"",
     "output_type": "error",
     "traceback": [
      "\u001b[1;31m---------------------------------------------------------------------------\u001b[0m",
      "\u001b[1;31mTypeError\u001b[0m                                 Traceback (most recent call last)",
      "Cell \u001b[1;32mIn[7], line 2\u001b[0m\n\u001b[0;32m      1\u001b[0m \u001b[39mimport\u001b[39;00m \u001b[39mtorch\u001b[39;00m\n\u001b[1;32m----> 2\u001b[0m torch\u001b[39m.\u001b[39;49mget_device()\n",
      "\u001b[1;31mTypeError\u001b[0m: get_device() missing 1 required positional arguments: \"input\""
     ]
    }
   ],
   "source": [
    "import torch"
   ]
  }
 ],
 "metadata": {
  "kernelspec": {
   "display_name": "o-nlp",
   "language": "python",
   "name": "python3"
  },
  "language_info": {
   "codemirror_mode": {
    "name": "ipython",
    "version": 3
   },
   "file_extension": ".py",
   "mimetype": "text/x-python",
   "name": "python",
   "nbconvert_exporter": "python",
   "pygments_lexer": "ipython3",
   "version": "3.8.0"
  },
  "orig_nbformat": 4,
  "vscode": {
   "interpreter": {
    "hash": "9e347cf33e39658ad5379615e90ad4f79b8760426ae44e8daf2e52468f171ca7"
   }
  }
 },
 "nbformat": 4,
 "nbformat_minor": 2
}
