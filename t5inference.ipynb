{
 "cells": [
  {
   "cell_type": "code",
   "execution_count": 6,
   "id": "88916b9b",
   "metadata": {},
   "outputs": [],
   "source": [
    "from datasets import Dataset"
   ]
  },
  {
   "cell_type": "code",
   "execution_count": 7,
   "id": "83cef7fc",
   "metadata": {},
   "outputs": [],
   "source": [
    "#val_dataset = Dataset.load_from_disk(\"../oqa_v1.0_shuffled_split/bin/val\")\n",
    "val_dataset = Dataset.load_from_disk(\"tmp/bin/val\")"
   ]
  },
  {
   "cell_type": "code",
   "execution_count": 8,
   "id": "d343b797",
   "metadata": {},
   "outputs": [
    {
     "data": {
      "text/plain": [
       "Dataset({\n",
       "    features: ['question', 'context', 'answers', 'answer_sentence', 'topic', 'reference', 'id'],\n",
       "    num_rows: 55\n",
       "})"
      ]
     },
     "execution_count": 8,
     "metadata": {},
     "output_type": "execute_result"
    }
   ],
   "source": [
    "val_dataset"
   ]
  },
  {
   "cell_type": "code",
   "execution_count": 9,
   "id": "5a771a16",
   "metadata": {},
   "outputs": [
    {
     "name": "stdout",
     "output_type": "stream",
     "text": [
      "The autoreload extension is already loaded. To reload it, use:\n",
      "  %reload_ext autoreload\n"
     ]
    }
   ],
   "source": [
    "%load_ext autoreload\n",
    "%autoreload 2"
   ]
  },
  {
   "cell_type": "code",
   "execution_count": 10,
   "id": "8a471218",
   "metadata": {},
   "outputs": [],
   "source": [
    "from models.llm_inference import GpuInference\n",
    "tt5 = GpuInference(model_checkpoint = \"google/t5-efficient-tiny\",\n",
    "             tokenizer_checkpoint = \"google/t5-efficient-tiny\",\n",
    "             int8=False,\n",
    "             dataset=val_dataset,\n",
    "            prompt_fmt=\"uniqa\")\n",
    "prompts = tt5.get_prompts()"
   ]
  },
  {
   "cell_type": "code",
   "execution_count": 11,
   "id": "5c4ca1d4",
   "metadata": {},
   "outputs": [
    {
     "data": {
      "text/plain": [
       "{'answer': 'the nasomaxillary complex is pushed forward by growth at the sphenoethmoidal (s-e) and (less importantly) interethmoidal (i-s) synchondroses',\n",
       " 'prompt': 'regarding the nasomaxillary complex, which synchondroses contribute to the forward growth?\\nit is known that growth hormone, directly or indirectly through its modulation of gene products, increases the expression of insulin-like growth factors (igfs) in cartilage, and it influences skeletal growth primarily by stimulating the growth of cartilage in areas of endochondral ossification. the difference in craniofacial and general body effects is due largely to the different timing of endochondral bone growth in the 2 regions. the primary growth cartilages, the first skeletal components to appear in early embryonic life, control growth in the cranial base and the limbs. the mechanism of growth in the synchondroses of the cranial base and the epiphyseal plates of the limbs is the same, ie, growth of the cartilage followed by its transformation into bone as maturing cartilage is replaced with bone. the timing is quite different in the craniofacial and limb areas, however. growth of the cranial base parallels growth of the brain and is largely complete by age 6, while growth in the limbs proceeds much more slowly and peaks at adolescence. the early cessation of growth in the synchondroses of the cranial base means that, by the time treatment of short stature in ts patients typically begins, there is no longer the possibility of a significant response in that area. forward growth of the maxilla occurs by 2 mechanisms. first, the nasomaxillary complex is pushed forward by growth at the sphenoethmoidal (s-e) and (less importantly) interethmoidal (i-s) synchondroses. this lengthens the anterior cranial base and moves the entire midface more anteriorly. second, the maxilla and associated structures are pulled forward by further development of the soft tissue complex in which they are embedded, and growth at the posterior and superior sutures moves the nasomaxillary complex away from the cranial base. the first mechanism is quite important up to age 6, when growth at the s-e and i-s synchondroses is completed; the second mechanism accounts for almost all maxillary growth thereafter. a characteristic midface deficiency is observed in achondroplasia, the autosomal dominant genetic syndrome that produces dwarfs with a reasonably normal trunk length but very short arms and legs. in these children, the midface deficiency is due not to a small maxilla but to the failure of a reasonably normal maxilla to be translated anteriorly into a normal position because the cranial base does not lengthen as it should. the midface deficiency in turner syndrome arises from the same cause. the dimensions of the maxilla are reasonably normal, but its position is not. as laine et al have noted, palate length as measured on dental casts is normal in turner syndrome, and table 1 demonstrates that the cephalometric measurement of maxillary length (pns-ans) also was close to the controls. since the cartilage of the cranial base grows only up to about age 6, one would expect little effect on the position of the maxilla from gh administration in older children.',\n",
       " 'id': 'eeeb35a3-5c47-4f7e-acc9-fb8bfcc14cf6'}"
      ]
     },
     "execution_count": 11,
     "metadata": {},
     "output_type": "execute_result"
    }
   ],
   "source": [
    "prompts[1]"
   ]
  },
  {
   "cell_type": "code",
   "execution_count": 34,
   "id": "2c1ac027",
   "metadata": {},
   "outputs": [
    {
     "data": {
      "application/vnd.jupyter.widget-view+json": {
       "model_id": "495f66294a6343639181ab25e518af8e",
       "version_major": 2,
       "version_minor": 0
      },
      "text/plain": [
       "Downloading (…)lve/main/config.json:   0%|          | 0.00/628 [00:00<?, ?B/s]"
      ]
     },
     "metadata": {},
     "output_type": "display_data"
    },
    {
     "data": {
      "application/vnd.jupyter.widget-view+json": {
       "model_id": "0181be7ad38a4d568a1ee8a254708ed4",
       "version_major": 2,
       "version_minor": 0
      },
      "text/plain": [
       "Downloading (…)\"pytorch_model.bin\";:   0%|          | 0.00/62.3M [00:00<?, ?B/s]"
      ]
     },
     "metadata": {},
     "output_type": "display_data"
    },
    {
     "data": {
      "application/vnd.jupyter.widget-view+json": {
       "model_id": "389c8fd998d34d458a6ce19f153881c4",
       "version_major": 2,
       "version_minor": 0
      },
      "text/plain": [
       "Downloading (…)neration_config.json:   0%|          | 0.00/147 [00:00<?, ?B/s]"
      ]
     },
     "metadata": {},
     "output_type": "display_data"
    },
    {
     "name": "stderr",
     "output_type": "stream",
     "text": [
      "Parameter 'function'=<function GpuInference.genseq.<locals>.<lambda> at 0x00000171C914EC10> of the transform datasets.arrow_dataset.Dataset._map_single couldn't be hashed properly, a random hash was used instead. Make sure your transforms and parameters are serializable with pickle or dill for the dataset fingerprinting and caching to work. If you reuse this transform, the caching mechanism will consider it to be different from the previous calls and recompute everything. This warning is only showed once. Subsequent hashing failures won't be showed.\n"
     ]
    },
    {
     "data": {
      "application/vnd.jupyter.widget-view+json": {
       "model_id": "",
       "version_major": 2,
       "version_minor": 0
      },
      "text/plain": [
       "Map:   0%|          | 0/55 [00:00<?, ? examples/s]"
      ]
     },
     "metadata": {},
     "output_type": "display_data"
    }
   ],
   "source": [
    "a = tt5.genseq(prompts)"
   ]
  },
  {
   "cell_type": "code",
   "execution_count": 37,
   "id": "18e466ea",
   "metadata": {},
   "outputs": [
    {
     "name": "stderr",
     "output_type": "stream",
     "text": [
      "You're using a T5TokenizerFast tokenizer. Please note that with a fast tokenizer, using the `__call__` method is faster than using a method to encode the text followed by a call to the `pad` method to get a padded encoding.\n"
     ]
    },
    {
     "data": {
      "text/plain": [
       "{'input_ids': tensor([[1918,  388,   26,  ...,    0,    0,    0],\n",
       "        [1918,    8,    3,  ...,    0,    0,    0],\n",
       "        [1918,  197,  102,  ...,    0,    0,    0],\n",
       "        [1918,  388,   26,  ...,    0,    0,    0]]), 'attention_mask': tensor([[1, 1, 1,  ..., 0, 0, 0],\n",
       "        [1, 1, 1,  ..., 0, 0, 0],\n",
       "        [1, 1, 1,  ..., 0, 0, 0],\n",
       "        [1, 1, 1,  ..., 0, 0, 0]])}"
      ]
     },
     "execution_count": 37,
     "metadata": {},
     "output_type": "execute_result"
    }
   ],
   "source": [
    "next(iter(a))"
   ]
  },
  {
   "cell_type": "code",
   "execution_count": null,
   "id": "06609dda",
   "metadata": {},
   "outputs": [],
   "source": []
  }
 ],
 "metadata": {
  "kernelspec": {
   "display_name": "Python 3 (ipykernel)",
   "language": "python",
   "name": "python3"
  },
  "language_info": {
   "codemirror_mode": {
    "name": "ipython",
    "version": 3
   },
   "file_extension": ".py",
   "mimetype": "text/x-python",
   "name": "python",
   "nbconvert_exporter": "python",
   "pygments_lexer": "ipython3",
   "version": "3.8.0"
  }
 },
 "nbformat": 4,
 "nbformat_minor": 5
}
