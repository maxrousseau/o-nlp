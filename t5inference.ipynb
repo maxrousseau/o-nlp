{
 "cells": [
  {
   "cell_type": "code",
   "execution_count": 1,
   "id": "88916b9b",
   "metadata": {},
   "outputs": [],
   "source": [
    "from datasets import Dataset"
   ]
  },
  {
   "cell_type": "code",
   "execution_count": 7,
   "id": "83cef7fc",
   "metadata": {},
   "outputs": [],
   "source": [
    "val_dataset = Dataset.load_from_disk(\"../oqa_v1.0_shuffled_split/bin/val\")"
   ]
  },
  {
   "cell_type": "code",
   "execution_count": 9,
   "id": "d343b797",
   "metadata": {},
   "outputs": [
    {
     "data": {
      "text/plain": [
       "Dataset({\n",
       "    features: ['question', 'context', 'answers', 'answer_sentence', 'topic', 'reference', 'id'],\n",
       "    num_rows: 55\n",
       "})"
      ]
     },
     "execution_count": 9,
     "metadata": {},
     "output_type": "execute_result"
    }
   ],
   "source": [
    "val_dataset"
   ]
  },
  {
   "cell_type": "code",
   "execution_count": 10,
   "id": "5a771a16",
   "metadata": {},
   "outputs": [],
   "source": [
    "%load_ext autoreload\n",
    "%autoreload 2"
   ]
  },
  {
   "cell_type": "code",
   "execution_count": 18,
   "id": "15e8ca36",
   "metadata": {},
   "outputs": [],
   "source": [
    "from models.llm_inference import GpuInference"
   ]
  },
  {
   "cell_type": "code",
   "execution_count": 24,
   "id": "8a471218",
   "metadata": {},
   "outputs": [],
   "source": [
    "tt5 = GpuInference(model_checkpoint = \"google/t5-efficient-tiny\",\n",
    "             tokenizer_checkpoint = \"google/t5-efficient-tiny\",\n",
    "             int8=False,\n",
    "             dataset=val_dataset,\n",
    "            prompt_fmt=\"uniqa\")\n",
    "prompts = tt5.get_prompts()"
   ]
  },
  {
   "cell_type": "code",
   "execution_count": 26,
   "id": "5c4ca1d4",
   "metadata": {},
   "outputs": [
    {
     "data": {
      "text/plain": [
       "{'answer': 'an elastic should be stretched to 3 times its passive inner diameter, and the static force of resistance should then be recorded in grams or ounces from a mechanical strain gauge or similar instrument',\n",
       " 'prompt': \"regarding orthodontic elastics, what is the rule of 3 used by manufacturers to measure elastic force?\\nwhile most manufacturers assign a biomechanical force value, usually in ounces, to each of their elastic categories, the values themselves show an abundance of built-in elasticity. for example, in michael langlade's specialized book optimization of orthodontic elastics, the reader is provided a framework for associating the marketing categories of light, medium, and heavy with specific reference values. a medium force, says langlade, falls within the range of 6 to 10 ounces (170 to 283 grams). this is not only an overly broad range, but it is also significantly above the force values for medium stated by most manufacturers. this incongruence is a salient example of the problem with our current orthodontic elastic classification system that it is, in fact, systemless and without standards. to gain more insight, we reviewed 11 studies of treatment elastics from the angle orthodontist, dating as far back as the 1950s. numerous discrepancies were found in the materials and methods used to perform these kinds of studies, and in the units in which the data were presented. the use of specific units, such as grams or newtons, was often based upon the investigator's preference, and thus limited the extent to which results could be compared. only 25% of the studies presented their results in newtons (n), the standard international unit of force in physics. one study erroneously presented its force per millimeter of displacement as a constant value assuming a linear relation for an elastic material that naturally possesses nonlinear force-elongation characteristics. several of the studies found that the optimal orthodontic force was generated at stretches as much as 5 times the elastics' lumen size, thus disputing the empirical rule of 3, which is the manufacturers' informal standard for measuring orthodontic elastic forces. this rule instructs that an elastic should be stretched to 3 times its passive inner diameter, and the static force of resistance should then be recorded in grams or ounces from a mechanical strain gauge or similar instrument. this practice is fraught with problems. first, considering the geometry of a circle, an elastic would passively lengthen to 1.57-times its diameter before any real stretching took place. so, a 1/4-inch elastic, following the rule of 3, would be stretched out to 3/4-inch (0.75 inch; 19.1 millimeters) and its force would be recorded at that point. but the 1/4-inch elastic stretched to 3-times its resting diameter in this manner would actually be active for only 48% of that stretched length, according to plane geometry, not the two-thirds we would assume. additionally confounding is the fact that each size of elastic band would be force-measured at a different stretch length. furthermore, little of this force-testing has direct relevance to the mouth where a stretched elastic band usually spans a distance of 30 to 40 mm in intermaxillary orthodontic applications. so what may we do to improve understanding and consistency in the application of elastic forces in orthodontics? most significantly, we must enlist orthodontic manufacturers and suppliers to get actively involved.\"}"
      ]
     },
     "execution_count": 26,
     "metadata": {},
     "output_type": "execute_result"
    }
   ],
   "source": [
    "prompts[0]"
   ]
  },
  {
   "cell_type": "code",
   "execution_count": null,
   "id": "2c1ac027",
   "metadata": {},
   "outputs": [],
   "source": []
  }
 ],
 "metadata": {
  "kernelspec": {
   "display_name": "Python 3 (ipykernel)",
   "language": "python",
   "name": "python3"
  },
  "language_info": {
   "codemirror_mode": {
    "name": "ipython",
    "version": 3
   },
   "file_extension": ".py",
   "mimetype": "text/x-python",
   "name": "python",
   "nbconvert_exporter": "python",
   "pygments_lexer": "ipython3",
   "version": "3.11.4"
  }
 },
 "nbformat": 4,
 "nbformat_minor": 5
}
